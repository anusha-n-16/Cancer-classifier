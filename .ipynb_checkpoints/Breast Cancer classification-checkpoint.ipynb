{
 "cells": [
  {
   "cell_type": "code",
   "execution_count": 1,
   "id": "724ccd9c",
   "metadata": {},
   "outputs": [],
   "source": [
    "import pandas as pd\n",
    "import numpy as np\n",
    "import matplotlib.pyplot as plt\n",
    "import seaborn as sns\n",
    "from sklearn.model_selection import train_test_split\n",
    "from sklearn.preprocessing import StandardScaler\n",
    "from sklearn.ensemble import RandomForestClassifier\n",
    "from sklearn.linear_model import LogisticRegression\n",
    "from sklearn.svm import SVC\n",
    "from sklearn.metrics import accuracy_score, classification_report, confusion_matrix"
   ]
  },
  {
   "cell_type": "markdown",
   "id": "b282119e",
   "metadata": {},
   "source": [
    "#LOADING THE DATASET\n",
    "\n",
    "This loads the dataset into a Pandas DataFrame and displays the first few rows to inspect the data."
   ]
  },
  {
   "cell_type": "code",
   "execution_count": 2,
   "id": "7c34b6a2",
   "metadata": {
    "scrolled": false
   },
   "outputs": [
    {
     "data": {
      "text/html": [
       "<div>\n",
       "<style scoped>\n",
       "    .dataframe tbody tr th:only-of-type {\n",
       "        vertical-align: middle;\n",
       "    }\n",
       "\n",
       "    .dataframe tbody tr th {\n",
       "        vertical-align: top;\n",
       "    }\n",
       "\n",
       "    .dataframe thead th {\n",
       "        text-align: right;\n",
       "    }\n",
       "</style>\n",
       "<table border=\"1\" class=\"dataframe\">\n",
       "  <thead>\n",
       "    <tr style=\"text-align: right;\">\n",
       "      <th></th>\n",
       "      <th>Id</th>\n",
       "      <th>Diagnosis</th>\n",
       "      <th>Radius (mean)</th>\n",
       "      <th>Texture (mean)</th>\n",
       "      <th>Perimeter (mean)</th>\n",
       "      <th>Area (mean)</th>\n",
       "      <th>Smoothness (mean)</th>\n",
       "      <th>Compactness (mean)</th>\n",
       "      <th>Concavity (mean)</th>\n",
       "      <th>Concave points (mean)</th>\n",
       "      <th>...</th>\n",
       "      <th>Radius (worst)</th>\n",
       "      <th>Texture (worst)</th>\n",
       "      <th>Perimeter (worst)</th>\n",
       "      <th>Area (worst)</th>\n",
       "      <th>Smoothness (worst)</th>\n",
       "      <th>Compactness (worst)</th>\n",
       "      <th>Concavity (worst)</th>\n",
       "      <th>Concave points (worst)</th>\n",
       "      <th>Symmetry (worst)</th>\n",
       "      <th>Fractal dimension (worst)</th>\n",
       "    </tr>\n",
       "  </thead>\n",
       "  <tbody>\n",
       "    <tr>\n",
       "      <th>0</th>\n",
       "      <td>8510426</td>\n",
       "      <td>B</td>\n",
       "      <td>13.540</td>\n",
       "      <td>14.36</td>\n",
       "      <td>87.46</td>\n",
       "      <td>566.3</td>\n",
       "      <td>0.09779</td>\n",
       "      <td>0.08129</td>\n",
       "      <td>0.06664</td>\n",
       "      <td>0.047810</td>\n",
       "      <td>...</td>\n",
       "      <td>15.110</td>\n",
       "      <td>19.26</td>\n",
       "      <td>99.70</td>\n",
       "      <td>711.2</td>\n",
       "      <td>0.14400</td>\n",
       "      <td>0.17730</td>\n",
       "      <td>0.23900</td>\n",
       "      <td>0.12880</td>\n",
       "      <td>0.2977</td>\n",
       "      <td>0.07259</td>\n",
       "    </tr>\n",
       "    <tr>\n",
       "      <th>1</th>\n",
       "      <td>8510653</td>\n",
       "      <td>B</td>\n",
       "      <td>13.080</td>\n",
       "      <td>15.71</td>\n",
       "      <td>85.63</td>\n",
       "      <td>520.0</td>\n",
       "      <td>0.10750</td>\n",
       "      <td>0.12700</td>\n",
       "      <td>0.04568</td>\n",
       "      <td>0.031100</td>\n",
       "      <td>...</td>\n",
       "      <td>14.500</td>\n",
       "      <td>20.49</td>\n",
       "      <td>96.09</td>\n",
       "      <td>630.5</td>\n",
       "      <td>0.13120</td>\n",
       "      <td>0.27760</td>\n",
       "      <td>0.18900</td>\n",
       "      <td>0.07283</td>\n",
       "      <td>0.3184</td>\n",
       "      <td>0.08183</td>\n",
       "    </tr>\n",
       "    <tr>\n",
       "      <th>2</th>\n",
       "      <td>8510824</td>\n",
       "      <td>B</td>\n",
       "      <td>9.504</td>\n",
       "      <td>12.44</td>\n",
       "      <td>60.34</td>\n",
       "      <td>273.9</td>\n",
       "      <td>0.10240</td>\n",
       "      <td>0.06492</td>\n",
       "      <td>0.02956</td>\n",
       "      <td>0.020760</td>\n",
       "      <td>...</td>\n",
       "      <td>10.230</td>\n",
       "      <td>15.66</td>\n",
       "      <td>65.13</td>\n",
       "      <td>314.9</td>\n",
       "      <td>0.13240</td>\n",
       "      <td>0.11480</td>\n",
       "      <td>0.08867</td>\n",
       "      <td>0.06227</td>\n",
       "      <td>0.2450</td>\n",
       "      <td>0.07773</td>\n",
       "    </tr>\n",
       "    <tr>\n",
       "      <th>3</th>\n",
       "      <td>854941</td>\n",
       "      <td>B</td>\n",
       "      <td>13.030</td>\n",
       "      <td>18.42</td>\n",
       "      <td>82.61</td>\n",
       "      <td>523.8</td>\n",
       "      <td>0.08983</td>\n",
       "      <td>0.03766</td>\n",
       "      <td>0.02562</td>\n",
       "      <td>0.029230</td>\n",
       "      <td>...</td>\n",
       "      <td>13.300</td>\n",
       "      <td>22.81</td>\n",
       "      <td>84.46</td>\n",
       "      <td>545.9</td>\n",
       "      <td>0.09701</td>\n",
       "      <td>0.04619</td>\n",
       "      <td>0.04833</td>\n",
       "      <td>0.05013</td>\n",
       "      <td>0.1987</td>\n",
       "      <td>0.06169</td>\n",
       "    </tr>\n",
       "    <tr>\n",
       "      <th>4</th>\n",
       "      <td>85713702</td>\n",
       "      <td>B</td>\n",
       "      <td>8.196</td>\n",
       "      <td>16.84</td>\n",
       "      <td>51.71</td>\n",
       "      <td>201.9</td>\n",
       "      <td>0.08600</td>\n",
       "      <td>0.05943</td>\n",
       "      <td>0.01588</td>\n",
       "      <td>0.005917</td>\n",
       "      <td>...</td>\n",
       "      <td>8.964</td>\n",
       "      <td>21.96</td>\n",
       "      <td>57.26</td>\n",
       "      <td>242.2</td>\n",
       "      <td>0.12970</td>\n",
       "      <td>0.13570</td>\n",
       "      <td>0.06880</td>\n",
       "      <td>0.02564</td>\n",
       "      <td>0.3105</td>\n",
       "      <td>0.07409</td>\n",
       "    </tr>\n",
       "  </tbody>\n",
       "</table>\n",
       "<p>5 rows × 32 columns</p>\n",
       "</div>"
      ],
      "text/plain": [
       "         Id Diagnosis  Radius (mean)  Texture (mean)  Perimeter (mean)  \\\n",
       "0   8510426         B         13.540           14.36             87.46   \n",
       "1   8510653         B         13.080           15.71             85.63   \n",
       "2   8510824         B          9.504           12.44             60.34   \n",
       "3    854941         B         13.030           18.42             82.61   \n",
       "4  85713702         B          8.196           16.84             51.71   \n",
       "\n",
       "   Area (mean)  Smoothness (mean)  Compactness (mean)  Concavity (mean)  \\\n",
       "0        566.3            0.09779             0.08129           0.06664   \n",
       "1        520.0            0.10750             0.12700           0.04568   \n",
       "2        273.9            0.10240             0.06492           0.02956   \n",
       "3        523.8            0.08983             0.03766           0.02562   \n",
       "4        201.9            0.08600             0.05943           0.01588   \n",
       "\n",
       "   Concave points (mean)  ...  Radius (worst)  Texture (worst)  \\\n",
       "0               0.047810  ...          15.110            19.26   \n",
       "1               0.031100  ...          14.500            20.49   \n",
       "2               0.020760  ...          10.230            15.66   \n",
       "3               0.029230  ...          13.300            22.81   \n",
       "4               0.005917  ...           8.964            21.96   \n",
       "\n",
       "   Perimeter (worst)  Area (worst)  Smoothness (worst)  Compactness (worst)  \\\n",
       "0              99.70         711.2             0.14400              0.17730   \n",
       "1              96.09         630.5             0.13120              0.27760   \n",
       "2              65.13         314.9             0.13240              0.11480   \n",
       "3              84.46         545.9             0.09701              0.04619   \n",
       "4              57.26         242.2             0.12970              0.13570   \n",
       "\n",
       "   Concavity (worst)  Concave points (worst)  Symmetry (worst)  \\\n",
       "0            0.23900                 0.12880            0.2977   \n",
       "1            0.18900                 0.07283            0.3184   \n",
       "2            0.08867                 0.06227            0.2450   \n",
       "3            0.04833                 0.05013            0.1987   \n",
       "4            0.06880                 0.02564            0.3105   \n",
       "\n",
       "   Fractal dimension (worst)  \n",
       "0                    0.07259  \n",
       "1                    0.08183  \n",
       "2                    0.07773  \n",
       "3                    0.06169  \n",
       "4                    0.07409  \n",
       "\n",
       "[5 rows x 32 columns]"
      ]
     },
     "execution_count": 2,
     "metadata": {},
     "output_type": "execute_result"
    }
   ],
   "source": [
    "df = pd.read_csv(\"C:/Users/ASHWINI/Downloads/cancer.csv\")\n",
    "df.head() "
   ]
  },
  {
   "cell_type": "code",
   "execution_count": 22,
   "id": "08290734",
   "metadata": {},
   "outputs": [
    {
     "name": "stdout",
     "output_type": "stream",
     "text": [
      "(569, 32)\n"
     ]
    }
   ],
   "source": [
    "print(df.shape)  # (rows, columns)\n"
   ]
  },
  {
   "cell_type": "markdown",
   "id": "9d18b4b8",
   "metadata": {},
   "source": [
    "#HANDLING MISSING VALUES\n",
    "\n",
    "This checks for missing values and duplicates in the dataset"
   ]
  },
  {
   "cell_type": "code",
   "execution_count": 3,
   "id": "39f83a6f",
   "metadata": {},
   "outputs": [
    {
     "name": "stdout",
     "output_type": "stream",
     "text": [
      "Id                           0\n",
      "Diagnosis                    0\n",
      "Radius (mean)                0\n",
      "Texture (mean)               0\n",
      "Perimeter (mean)             0\n",
      "Area (mean)                  0\n",
      "Smoothness (mean)            0\n",
      "Compactness (mean)           0\n",
      "Concavity (mean)             0\n",
      "Concave points (mean)        0\n",
      "Symmetry (mean)              0\n",
      "Fractal dimension (mean)     0\n",
      "Radius (se)                  0\n",
      "Texture (se)                 0\n",
      "Perimeter (se)               0\n",
      "Area (se)                    0\n",
      "Smoothness (se)              0\n",
      "Compactness (se)             0\n",
      "Concavity (se)               0\n",
      "Concave points (se)          0\n",
      "Symmetry (se)                0\n",
      "Fractal dimension (se)       0\n",
      "Radius (worst)               0\n",
      "Texture (worst)              0\n",
      "Perimeter (worst)            0\n",
      "Area (worst)                 0\n",
      "Smoothness (worst)           0\n",
      "Compactness (worst)          0\n",
      "Concavity (worst)            0\n",
      "Concave points (worst)       0\n",
      "Symmetry (worst)             0\n",
      "Fractal dimension (worst)    0\n",
      "dtype: int64\n"
     ]
    }
   ],
   "source": [
    "print(df.isnull().sum())"
   ]
  },
  {
   "cell_type": "code",
   "execution_count": 4,
   "id": "ecfe4fb8",
   "metadata": {},
   "outputs": [
    {
     "name": "stdout",
     "output_type": "stream",
     "text": [
      "0\n"
     ]
    }
   ],
   "source": [
    "print(df.duplicated().sum())  # Check for duplicates"
   ]
  },
  {
   "cell_type": "markdown",
   "id": "6b282ab6",
   "metadata": {},
   "source": [
    "#ANALYZING CLASS DISTRIBUTION (MALIGNANT VS. BENIGN)\n",
    "\n",
    "Print class distribution"
   ]
  },
  {
   "cell_type": "code",
   "execution_count": 5,
   "id": "da17ccf8",
   "metadata": {},
   "outputs": [
    {
     "name": "stdout",
     "output_type": "stream",
     "text": [
      "Class Distribution:\n",
      " B    357\n",
      "M    212\n",
      "Name: Diagnosis, dtype: int64\n"
     ]
    },
    {
     "data": {
      "image/png": "[encoded data removed]",
      "text/plain": [
       "<Figure size 700x400 with 1 Axes>"
      ]
     },
     "metadata": {},
     "output_type": "display_data"
    }
   ],
   "source": [
    "import seaborn as sns\n",
    "import matplotlib.pyplot as plt\n",
    "\n",
    "# Print class distribution (count of each class)\n",
    "class_counts = df[\"Diagnosis\"].value_counts()\n",
    "print(\"Class Distribution:\\n\", class_counts)\n",
    "\n",
    "# Plot class distribution with enhanced visualization\n",
    "plt.figure(figsize=(7, 4))  # Adjust figure size for better readability\n",
    "sns.countplot(x=\"Diagnosis\", data=df, palette=[\"#1f77b4\", \"#ff7f0e\"])  # Color distinction\n",
    "\n",
    "# Add text annotations above the bars\n",
    "for i, count in enumerate(class_counts):\n",
    "    plt.text(i, count + 5, str(count), ha='center', fontsize=12, fontweight='bold')\n",
    "\n",
    "# Set plot labels and title\n",
    "plt.title(\"Distribution of Malignant vs. Benign Cases\", fontsize=14, fontweight='bold')\n",
    "plt.xlabel(\"Diagnosis (0 = Benign, 1 = Malignant)\", fontsize=12)\n",
    "plt.ylabel(\"Count\", fontsize=12)\n",
    "plt.xticks([0, 1], [\"Benign\", \"Malignant\"])  # Ensure proper labels\n",
    "\n",
    "# Show the plot\n",
    "plt.show()\n"
   ]
  },
  {
   "cell_type": "code",
   "execution_count": 6,
   "id": "66b097c5",
   "metadata": {},
   "outputs": [
    {
     "data": {
      "image/png": "[encoded data removed]",
      "text/plain": [
       "<Figure size 640x480 with 1 Axes>"
      ]
     },
     "metadata": {},
     "output_type": "display_data"
    }
   ],
   "source": [
    "df[\"Diagnosis\"].value_counts().plot.pie(autopct=\"%1.1f%%\", colors=[\"skyblue\", \"salmon\"])\n",
    "plt.title(\"Percentage of Malignant vs. Benign Cases\")\n",
    "plt.ylabel(\"\")\n",
    "plt.show()"
   ]
  },
  {
   "cell_type": "markdown",
   "id": "e08fd1b1",
   "metadata": {},
   "source": [
    "#ENCODING CATEGORICAL TARGET VARIABLE\n",
    " Converting categorical labels to numeric"
   ]
  },
  {
   "cell_type": "code",
   "execution_count": 7,
   "id": "2f732906",
   "metadata": {
    "scrolled": true
   },
   "outputs": [
    {
     "name": "stdout",
     "output_type": "stream",
     "text": [
      "{'B': 0, 'M': 1}\n"
     ]
    }
   ],
   "source": [
    "from sklearn.preprocessing import LabelEncoder\n",
    "from sklearn.model_selection import train_test_split\n",
    "\n",
    "# Define features (X) and target (y)\n",
    "X = df.drop(columns=[\"Diagnosis\"])  # Drop target column to get features\n",
    "y = df[\"Diagnosis\"]  # Target variable (contains 'B' and 'M')\n",
    "\n",
    "# Convert categorical labels to numeric (B -> 0, M -> 1)\n",
    "label_encoder = LabelEncoder()\n",
    "y = label_encoder.fit_transform(y)\n",
    "\n",
    "# Print encoding mapping\n",
    "print(dict(zip(label_encoder.classes_, label_encoder.transform(label_encoder.classes_))))\n",
    "\n"
   ]
  },
  {
   "cell_type": "markdown",
   "id": "67affa5a",
   "metadata": {},
   "source": [
    "#SPLITTING THE DATASET & SCALING FEATURES"
   ]
  },
  {
   "cell_type": "code",
   "execution_count": 8,
   "id": "b01f9f92",
   "metadata": {},
   "outputs": [
    {
     "name": "stdout",
     "output_type": "stream",
     "text": [
      "Scaled Training Data: (455, 31)\n",
      "Scaled Testing Data: (114, 31)\n"
     ]
    }
   ],
   "source": [
    "from sklearn.preprocessing import StandardScaler\n",
    "\n",
    "scaler = StandardScaler()\n",
    "\n",
    "# Split the data (80% training, 20% testing) with stratification\n",
    "X_train, X_test, y_train, y_test = train_test_split(X, y, test_size=0.2, stratify=y, random_state=42)\n",
    "\n",
    "# Fit on training data and transform both training & testing sets\n",
    "X_train_scaled = scaler.fit_transform(X_train)\n",
    "X_test_scaled = scaler.transform(X_test)\n",
    "\n",
    "# Print shape to confirm transformation\n",
    "print(f\"Scaled Training Data: {X_train_scaled.shape}\")\n",
    "print(f\"Scaled Testing Data: {X_test_scaled.shape}\")\n"
   ]
  },
  {
   "cell_type": "code",
   "execution_count": 9,
   "id": "62888017",
   "metadata": {},
   "outputs": [
    {
     "name": "stdout",
     "output_type": "stream",
     "text": [
      "Requirement already satisfied: imbalanced-learn in c:\\users\\ashwini\\anaconda3\\lib\\site-packages (0.12.4)\n",
      "Requirement already satisfied: numpy>=1.17.3 in c:\\users\\ashwini\\appdata\\roaming\\python\\python39\\site-packages (from imbalanced-learn) (1.24.3)\n",
      "Requirement already satisfied: threadpoolctl>=2.0.0 in c:\\users\\ashwini\\anaconda3\\lib\\site-packages (from imbalanced-learn) (2.2.0)\n",
      "Requirement already satisfied: scipy>=1.5.0 in c:\\users\\ashwini\\anaconda3\\lib\\site-packages (from imbalanced-learn) (1.9.1)\n",
      "Requirement already satisfied: scikit-learn>=1.0.2 in c:\\users\\ashwini\\anaconda3\\lib\\site-packages (from imbalanced-learn) (1.0.2)\n",
      "Requirement already satisfied: joblib>=1.1.1 in c:\\users\\ashwini\\anaconda3\\lib\\site-packages (from imbalanced-learn) (1.4.2)\n",
      "Note: you may need to restart the kernel to use updated packages.\n"
     ]
    }
   ],
   "source": [
    "pip install imbalanced-learn"
   ]
  },
  {
   "cell_type": "markdown",
   "id": "2b0ff851",
   "metadata": {},
   "source": [
    "#HANDLING IMBALANCED DATA WITH SMOTE"
   ]
  },
  {
   "cell_type": "code",
   "execution_count": 10,
   "id": "4e06be2a",
   "metadata": {},
   "outputs": [
    {
     "name": "stdout",
     "output_type": "stream",
     "text": [
      "Resampled Training Data: (570, 31)\n",
      "Resampled Training Labels: (570,)\n"
     ]
    }
   ],
   "source": [
    "from imblearn.over_sampling import SMOTE\n",
    "\n",
    "smote = SMOTE(random_state=42)\n",
    "X_train_resampled, y_train_resampled = smote.fit_resample(X_train_scaled, y_train)\n",
    "\n",
    "# Print new shape after oversampling\n",
    "print(f\"Resampled Training Data: {X_train_resampled.shape}\")\n",
    "print(f\"Resampled Training Labels: {y_train_resampled.shape}\")"
   ]
  },
  {
   "cell_type": "markdown",
   "id": "927aa483",
   "metadata": {},
   "source": [
    "#TRAINING & EVALUATING RANDOM FOREST CLASSIFIER"
   ]
  },
  {
   "cell_type": "code",
   "execution_count": 11,
   "id": "dd99ffe2",
   "metadata": {},
   "outputs": [
    {
     "name": "stdout",
     "output_type": "stream",
     "text": [
      "Model training completed.\n"
     ]
    }
   ],
   "source": [
    "from sklearn.ensemble import RandomForestClassifier\n",
    "\n",
    "# Initialize the model\n",
    "clf = RandomForestClassifier(n_estimators=100, random_state=42)\n",
    "\n",
    "# Train the model on resampled data\n",
    "clf.fit(X_train_resampled, y_train_resampled)\n",
    "\n",
    "# Print model training completion\n",
    "print(\"Model training completed.\")"
   ]
  },
  {
   "cell_type": "code",
   "execution_count": 12,
   "id": "a36fa9b6",
   "metadata": {},
   "outputs": [],
   "source": [
    "# Predict on the test set\n",
    "y_pred = clf.predict(X_test_scaled)\n",
    "y_prob = clf.predict_proba(X_test_scaled)[:, 1]  # Probability scores for ROC"
   ]
  },
  {
   "cell_type": "code",
   "execution_count": 1,
   "id": "35b5a57a",
   "metadata": {
    "scrolled": false
   },
   "outputs": [
    {
     "ename": "NameError",
     "evalue": "name 'y_test' is not defined",
     "output_type": "error",
     "traceback": [
      "\u001b[1;31m---------------------------------------------------------------------------\u001b[0m",
      "\u001b[1;31mNameError\u001b[0m                                 Traceback (most recent call last)",
      "\u001b[1;32m~\\AppData\\Local\\Temp\\ipykernel_13980\\2031118445.py\u001b[0m in \u001b[0;36m<module>\u001b[1;34m\u001b[0m\n\u001b[0;32m      3\u001b[0m \u001b[1;33m\u001b[0m\u001b[0m\n\u001b[0;32m      4\u001b[0m \u001b[1;31m# Print classification report\u001b[0m\u001b[1;33m\u001b[0m\u001b[1;33m\u001b[0m\u001b[0m\n\u001b[1;32m----> 5\u001b[1;33m \u001b[0mprint\u001b[0m\u001b[1;33m(\u001b[0m\u001b[1;34m\"Random Forest Classification Report:\\n\"\u001b[0m\u001b[1;33m,\u001b[0m \u001b[0mclassification_report\u001b[0m\u001b[1;33m(\u001b[0m\u001b[0my_test\u001b[0m\u001b[1;33m,\u001b[0m \u001b[0my_pred\u001b[0m\u001b[1;33m)\u001b[0m\u001b[1;33m)\u001b[0m\u001b[1;33m\u001b[0m\u001b[1;33m\u001b[0m\u001b[0m\n\u001b[0m\u001b[0;32m      6\u001b[0m \u001b[1;33m\u001b[0m\u001b[0m\n\u001b[0;32m      7\u001b[0m \u001b[1;31m# Print confusion matrix\u001b[0m\u001b[1;33m\u001b[0m\u001b[1;33m\u001b[0m\u001b[0m\n",
      "\u001b[1;31mNameError\u001b[0m: name 'y_test' is not defined"
     ]
    }
   ],
   "source": [
    "from sklearn.metrics import classification_report, confusion_matrix, roc_auc_score, roc_curve\n",
    "import matplotlib.pyplot as plt\n",
    "\n",
    "# Print classification report\n",
    "print(\"Random Forest Classification Report:\\n\", classification_report(y_test, y_pred))\n",
    "\n",
    "# Print confusion matrix\n",
    "print(\"Confusion Matrix:\\n\", confusion_matrix(y_test, y_pred))\n",
    "\n",
    "# AUC-ROC Score\n",
    "roc_auc_rf = roc_auc_score(y_test, y_prob)\n",
    "print(\"AUC-ROC Score:\", roc_auc_rf)\n",
    "\n",
    "# Plot ROC Curve\n",
    "fpr, tpr, _ = roc_curve(y_test, y_prob)\n",
    "plt.figure(figsize=(8,6))\n",
    "plt.plot(fpr, tpr, color=\"blue\", label=f\"AUC = {roc_auc_rf:.3f}\")\n",
    "plt.plot([0, 1], [0, 1], linestyle=\"--\", color=\"gray\")\n",
    "plt.xlabel(\"False Positive Rate\")\n",
    "plt.ylabel(\"True Positive Rate\")\n",
    "plt.title(\"ROC Curve - Random Forest\")\n",
    "plt.legend()\n",
    "plt.show()\n",
    "\n"
   ]
  },
  {
   "cell_type": "markdown",
   "id": "136cc41f",
   "metadata": {},
   "source": [
    "#TRAINING & EVALUATING LOGISTIC REGRESSION"
   ]
  },
  {
   "cell_type": "code",
   "execution_count": 15,
   "id": "e29c3c52",
   "metadata": {},
   "outputs": [
    {
     "name": "stdout",
     "output_type": "stream",
     "text": [
      "\n",
      "Logistic Regression Report:\n",
      "               precision    recall  f1-score   support\n",
      "\n",
      "           0       0.97      0.99      0.98        72\n",
      "           1       0.98      0.95      0.96        42\n",
      "\n",
      "    accuracy                           0.97       114\n",
      "   macro avg       0.97      0.97      0.97       114\n",
      "weighted avg       0.97      0.97      0.97       114\n",
      "\n",
      "Confusion Matrix:\n",
      " [[71  1]\n",
      " [ 2 40]]\n",
      "--------------------------------------------------\n",
      "AUC-ROC Score: 0.9975198412698413\n"
     ]
    },
    {
     "data": {
      "image/png": "[encoded data removed]",
      "text/plain": [
       "<Figure size 800x600 with 1 Axes>"
      ]
     },
     "metadata": {},
     "output_type": "display_data"
    }
   ],
   "source": [
    "from sklearn.metrics import (\n",
    "    accuracy_score, precision_score, recall_score, f1_score, roc_auc_score, classification_report, confusion_matrix, roc_curve\n",
    ")\n",
    "\n",
    "results = []\n",
    "\n",
    "lr = LogisticRegression()\n",
    "lr.fit(X_train_resampled, y_train_resampled)\n",
    "y_pred_lr = lr.predict(X_test_scaled)\n",
    "y_prob_lr = lr.predict_proba(X_test_scaled)[:, 1]\n",
    "\n",
    "# Metrics\n",
    "results.append({\n",
    "    \"Model\": \"Logistic Regression\",\n",
    "    \"Accuracy\": accuracy_score(y_test, y_pred_lr),\n",
    "    \"Precision\": precision_score(y_test, y_pred_lr),\n",
    "    \"Recall\": recall_score(y_test, y_pred_lr),\n",
    "    \"F1-Score\": f1_score(y_test, y_pred_lr),\n",
    "    \"AUC-ROC\": roc_auc_score(y_test, y_prob_lr)\n",
    "})\n",
    "\n",
    "print(\"\\nLogistic Regression Report:\\n\", classification_report(y_test, y_pred_lr))\n",
    "print(\"Confusion Matrix:\\n\", confusion_matrix(y_test, y_pred_lr))\n",
    "print(\"-\" * 50)\n",
    "\n",
    "# AUC-ROC Score\n",
    "roc_auc = roc_auc_score(y_test, y_prob)\n",
    "print(\"AUC-ROC Score:\", roc_auc)\n",
    "\n",
    "# Plot ROC Curve\n",
    "fpr, tpr, _ = roc_curve(y_test, y_prob)\n",
    "plt.figure(figsize=(8,6))\n",
    "plt.plot(fpr, tpr, color=\"blue\", label=f\"AUC = {roc_auc:.3f}\")\n",
    "plt.plot([0, 1], [0, 1], linestyle=\"--\", color=\"gray\")\n",
    "plt.xlabel(\"False Positive Rate\")\n",
    "plt.ylabel(\"True Positive Rate\")\n",
    "plt.title(\"ROC Curve\")\n",
    "plt.legend()\n",
    "plt.show()"
   ]
  },
  {
   "cell_type": "markdown",
   "id": "287b8b4e",
   "metadata": {},
   "source": [
    "#TRAINING & EVALUATING SUPPORT VECTOR MACHINE (SVM)"
   ]
  },
  {
   "cell_type": "code",
   "execution_count": 16,
   "id": "f3e05c2f",
   "metadata": {},
   "outputs": [
    {
     "name": "stdout",
     "output_type": "stream",
     "text": [
      "\n",
      "SVM Report:\n",
      "               precision    recall  f1-score   support\n",
      "\n",
      "           0       0.97      0.99      0.98        72\n",
      "           1       0.98      0.95      0.96        42\n",
      "\n",
      "    accuracy                           0.97       114\n",
      "   macro avg       0.97      0.97      0.97       114\n",
      "weighted avg       0.97      0.97      0.97       114\n",
      "\n",
      "Confusion Matrix:\n",
      " [[71  1]\n",
      " [ 2 40]]\n",
      "--------------------------------------------------\n",
      "AUC-ROC Score: 0.9975198412698413\n"
     ]
    },
    {
     "data": {
      "image/png": "[encoded data removed]",
      "text/plain": [
       "<Figure size 800x600 with 1 Axes>"
      ]
     },
     "metadata": {},
     "output_type": "display_data"
    }
   ],
   "source": [
    "from sklearn.metrics import (\n",
    "    accuracy_score, precision_score, recall_score, f1_score, roc_auc_score, classification_report, confusion_matrix, roc_curve\n",
    ")\n",
    "\n",
    "results = []\n",
    "\n",
    "svm = SVC(probability=True)\n",
    "svm.fit(X_train_resampled, y_train_resampled)\n",
    "y_pred_svm = svm.predict(X_test_scaled)\n",
    "y_prob_svm = svm.predict_proba(X_test_scaled)[:, 1]\n",
    "\n",
    "# Metrics\n",
    "results.append({\n",
    "    \"Model\": \"SVM\",\n",
    "    \"Accuracy\": accuracy_score(y_test, y_pred_svm),\n",
    "    \"Precision\": precision_score(y_test, y_pred_svm),\n",
    "    \"Recall\": recall_score(y_test, y_pred_svm),\n",
    "    \"F1-Score\": f1_score(y_test, y_pred_svm),\n",
    "    \"AUC-ROC\": roc_auc_score(y_test, y_prob_svm)\n",
    "})\n",
    "\n",
    "print(\"\\nSVM Report:\\n\", classification_report(y_test, y_pred_svm))\n",
    "print(\"Confusion Matrix:\\n\", confusion_matrix(y_test, y_pred_svm))\n",
    "print(\"-\" * 50)\n",
    "\n",
    "# AUC-ROC Score\n",
    "roc_auc = roc_auc_score(y_test, y_prob)\n",
    "print(\"AUC-ROC Score:\", roc_auc)\n",
    "\n",
    "# Plot ROC Curve\n",
    "fpr, tpr, _ = roc_curve(y_test, y_prob)\n",
    "plt.figure(figsize=(8,6))\n",
    "plt.plot(fpr, tpr, color=\"blue\", label=f\"AUC = {roc_auc:.3f}\")\n",
    "plt.plot([0, 1], [0, 1], linestyle=\"--\", color=\"gray\")\n",
    "plt.xlabel(\"False Positive Rate\")\n",
    "plt.ylabel(\"True Positive Rate\")\n",
    "plt.title(\"ROC Curve\")\n",
    "plt.legend()\n",
    "plt.show()"
   ]
  },
  {
   "cell_type": "code",
   "execution_count": 17,
   "id": "39a198ed",
   "metadata": {},
   "outputs": [
    {
     "name": "stdout",
     "output_type": "stream",
     "text": [
      "Requirement already satisfied: XGBoost in c:\\users\\ashwini\\anaconda3\\lib\\site-packages (2.1.4)Note: you may need to restart the kernel to use updated packages.\n",
      "\n",
      "Requirement already satisfied: numpy in c:\\users\\ashwini\\appdata\\roaming\\python\\python39\\site-packages (from XGBoost) (1.24.3)\n",
      "Requirement already satisfied: scipy in c:\\users\\ashwini\\anaconda3\\lib\\site-packages (from XGBoost) (1.9.1)\n"
     ]
    }
   ],
   "source": [
    "pip install XGBoost"
   ]
  },
  {
   "cell_type": "markdown",
   "id": "098be9d5",
   "metadata": {},
   "source": [
    "#TRAINING & EVALUATING XGBOOST CLASSIFIER"
   ]
  },
  {
   "cell_type": "code",
   "execution_count": 18,
   "id": "06aeac4f",
   "metadata": {},
   "outputs": [
    {
     "name": "stdout",
     "output_type": "stream",
     "text": [
      "\n",
      "XGBoost Report:\n",
      "               precision    recall  f1-score   support\n",
      "\n",
      "           0       0.96      1.00      0.98        72\n",
      "           1       1.00      0.93      0.96        42\n",
      "\n",
      "    accuracy                           0.97       114\n",
      "   macro avg       0.98      0.96      0.97       114\n",
      "weighted avg       0.97      0.97      0.97       114\n",
      "\n"
     ]
    },
    {
     "name": "stderr",
     "output_type": "stream",
     "text": [
      "C:\\Users\\ASHWINI\\anaconda3\\lib\\site-packages\\xgboost\\core.py:158: UserWarning: [15:00:25] WARNING: C:\\buildkite-agent\\builds\\buildkite-windows-cpu-autoscaling-group-i-08cbc0333d8d4aae1-1\\xgboost\\xgboost-ci-windows\\src\\learner.cc:740: \n",
      "Parameters: { \"use_label_encoder\" } are not used.\n",
      "\n",
      "  warnings.warn(smsg, UserWarning)\n"
     ]
    },
    {
     "name": "stdout",
     "output_type": "stream",
     "text": [
      "Confusion Matrix:\n",
      " [[72  0]\n",
      " [ 3 39]]\n",
      "--------------------------------------------------\n",
      "AUC-ROC Score: 0.9975198412698413\n"
     ]
    },
    {
     "data": {
      "image/png": "[encoded data removed]",
      "text/plain": [
       "<Figure size 800x600 with 1 Axes>"
      ]
     },
     "metadata": {},
     "output_type": "display_data"
    }
   ],
   "source": [
    "from xgboost import XGBClassifier\n",
    "from sklearn.metrics import (\n",
    "    accuracy_score, precision_score, recall_score, f1_score, roc_auc_score, classification_report, confusion_matrix, roc_curve\n",
    ")\n",
    "\n",
    "results = []\n",
    "\n",
    "xgb = XGBClassifier(eval_metric=\"logloss\", use_label_encoder=False)\n",
    "xgb.fit(X_train_resampled, y_train_resampled)\n",
    "y_pred_xgb = xgb.predict(X_test_scaled)\n",
    "y_prob_xgb = xgb.predict_proba(X_test_scaled)[:, 1]\n",
    "\n",
    "# Metrics\n",
    "results.append({\n",
    "    \"Model\": \"XGBoost\",\n",
    "    \"Accuracy\": accuracy_score(y_test, y_pred_xgb),\n",
    "    \"Precision\": precision_score(y_test, y_pred_xgb),\n",
    "    \"Recall\": recall_score(y_test, y_pred_xgb),\n",
    "    \"F1-Score\": f1_score(y_test, y_pred_xgb),\n",
    "    \"AUC-ROC\": roc_auc_score(y_test, y_prob_xgb)\n",
    "})\n",
    "\n",
    "print(\"\\nXGBoost Report:\\n\", classification_report(y_test, y_pred_xgb))\n",
    "print(\"Confusion Matrix:\\n\", confusion_matrix(y_test, y_pred_xgb))\n",
    "print(\"-\" * 50)\n",
    "\n",
    "# AUC-ROC Score\n",
    "roc_auc = roc_auc_score(y_test, y_prob)\n",
    "print(\"AUC-ROC Score:\", roc_auc)\n",
    "\n",
    "# Plot ROC Curve\n",
    "fpr, tpr, _ = roc_curve(y_test, y_prob)\n",
    "plt.figure(figsize=(8,6))\n",
    "plt.plot(fpr, tpr, color=\"blue\", label=f\"AUC = {roc_auc:.3f}\")\n",
    "plt.plot([0, 1], [0, 1], linestyle=\"--\", color=\"gray\")\n",
    "plt.xlabel(\"False Positive Rate\")\n",
    "plt.ylabel(\"True Positive Rate\")\n",
    "plt.title(\"ROC Curve\")\n",
    "plt.legend()\n",
    "plt.show()"
   ]
  }
 ],
 "metadata": {
  "kernelspec": {
   "display_name": "Python 3 (ipykernel)",
   "language": "python",
   "name": "python3"
  },
  "language_info": {
   "codemirror_mode": {
    "name": "ipython",
    "version": 3
   },
   "file_extension": ".py",
   "mimetype": "text/x-python",
   "name": "python",
   "nbconvert_exporter": "python",
   "pygments_lexer": "ipython3",
   "version": "3.9.13"
  }
 },
 "nbformat": 4,
 "nbformat_minor": 5
}
